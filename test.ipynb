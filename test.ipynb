{
 "cells": [
  {
   "cell_type": "code",
   "execution_count": null,
   "metadata": {},
   "outputs": [],
   "source": [
    "\n",
    "from AEE.audio_explicit_editor import reverse_audio_section\n",
    "\n",
    "start_time = [3]                ## time intervals in seconds.\n",
    "end_time = [10]                 ## time intervals in seconds.\n",
    "input_file = \"Cardi-B_WAP.mp3\"  # this varible needs to be file location of the song you want to remove explicits from.\n",
    "output_file = \"output.mp3\"      # The name and location of the output file.\n",
    "\n",
    "reverse_audio_section(input_file,output_file,start_time,end_time)"
   ]
  }
 ],
 "metadata": {
  "kernelspec": {
   "display_name": "base",
   "language": "python",
   "name": "python3"
  },
  "language_info": {
   "codemirror_mode": {
    "name": "ipython",
    "version": 3
   },
   "file_extension": ".py",
   "mimetype": "text/x-python",
   "name": "python",
   "nbconvert_exporter": "python",
   "pygments_lexer": "ipython3",
   "version": "3.9.13"
  },
  "orig_nbformat": 4,
  "vscode": {
   "interpreter": {
    "hash": "842f89ebe7925a95d1cbdf9eac0dda9bce027ff9f850caabaeb3482053f1c448"
   }
  }
 },
 "nbformat": 4,
 "nbformat_minor": 2
}
